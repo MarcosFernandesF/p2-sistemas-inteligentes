{
 "cells": [
  {
   "cell_type": "markdown",
   "metadata": {},
   "source": [
    "# Prova II - Sistema Fuzzy, Regressão e Otimização\n",
    "\n",
    "Este notebook contém a implementação das 3 fases da prova para o problema de **Exposição Ocupacional Causada pelo HIV**.\n",
    "\n",
    "- **Fase 1**: Criação do sistema de inferência fuzzy e geração de um banco de dados a partir dele.\n",
    "- **Fase 2**: Treinamento de um modelo de regressão (MLP Regressor) com o banco de dados gerado.\n",
    "- **Fase 3**: Otimização da função do regressor para encontrar o cenário de **mínimo risco** de contaminação."
   ]
  },
  {
   "cell_type": "markdown",
   "metadata": {},
   "source": [
    "## Fase 1: Sistema Fuzzy e Geração do Banco de Dados"
   ]
  },
  {
   "cell_type": "code",
   "execution_count": 11,
   "metadata": {},
   "outputs": [],
   "source": [
    "import numpy as np\n",
    "import skfuzzy as fuzz\n",
    "from skfuzzy import control as ctrl\n",
    "\n",
    "# Definição das Variáveis\n",
    "carga_viral = ctrl.Antecedent(np.arange(0, 10001, 1), 'Carga Viral')\n",
    "tempo_exposicao = ctrl.Antecedent(np.arange(0, 11, 1), 'Tempo de Exposição')\n",
    "volume = ctrl.Antecedent(np.arange(0, 11, 1), 'Volume')\n",
    "risco = ctrl.Consequent(np.arange(0, 1.01, 0.01), 'Risco de Contaminação')\n",
    "\n",
    "# Funções de Pertinência\n",
    "carga_viral['baixa'] = fuzz.trapmf(carga_viral.universe, [0, 0, 500, 1000])\n",
    "carga_viral['média'] = fuzz.trapmf(carga_viral.universe, [500, 1000, 3500, 4500])\n",
    "carga_viral['alta'] = fuzz.trapmf(carga_viral.universe, [3000, 4500, 10000, 10000])\n",
    "\n",
    "tempo_exposicao['baixo'] = fuzz.trapmf(tempo_exposicao.universe, [0, 0, 0.5, 1])\n",
    "tempo_exposicao['médio'] = fuzz.trapmf(tempo_exposicao.universe, [0.5, 1, 3.5, 4])\n",
    "tempo_exposicao['alto'] = fuzz.trapmf(tempo_exposicao.universe, [3.5, 4, 10, 10])\n",
    "\n",
    "volume['pequeno'] = fuzz.trapmf(volume.universe, [0, 0, 0.5, 1])\n",
    "volume['médio'] = fuzz.trapmf(volume.universe, [0.5, 1, 3.5, 4.5])\n",
    "volume['grande'] = fuzz.trapmf(volume.universe, [3.5, 4.5, 10, 10])\n",
    "\n",
    "risco['baixo'] = fuzz.trapmf(risco.universe, [0, 0, 0.05, 0.15])\n",
    "risco['médio'] = fuzz.trapmf(risco.universe, [0.05, 0.15, 0.4, 0.5])\n",
    "risco['alto'] = fuzz.trapmf(risco.universe, [0.35, 0.5, 0.925, 0.95])\n",
    "risco['muito_alto'] = fuzz.trapmf(risco.universe, [0.925, 0.95, 1, 1])\n",
    "\n",
    "# Regras\n",
    "regra1 = ctrl.Rule(carga_viral['baixa'] & tempo_exposicao['baixo'] & volume['pequeno'], risco['baixo'])\n",
    "regra2 = ctrl.Rule(carga_viral['baixa'] & tempo_exposicao['baixo'] & volume['médio'], risco['baixo'])\n",
    "regra3 = ctrl.Rule(carga_viral['baixa'] & tempo_exposicao['baixo'] & volume['grande'], risco['baixo'])\n",
    "regra4 = ctrl.Rule(carga_viral['baixa'] & tempo_exposicao['médio'] & volume['pequeno'], risco['baixo'])\n",
    "regra5 = ctrl.Rule(carga_viral['baixa'] & tempo_exposicao['médio'] & volume['médio'], risco['baixo'])\n",
    "regra6 = ctrl.Rule(carga_viral['baixa'] & tempo_exposicao['médio'] & volume['grande'], risco['baixo'])\n",
    "regra7 = ctrl.Rule(carga_viral['baixa'] & tempo_exposicao['alto'] & volume['pequeno'], risco['baixo'])\n",
    "regra8 = ctrl.Rule(carga_viral['baixa'] & tempo_exposicao['alto'] & volume['médio'], risco['baixo'])\n",
    "regra9 = ctrl.Rule(carga_viral['baixa'] & tempo_exposicao['alto'] & volume['grande'], risco['baixo'])\n",
    "regra10 = ctrl.Rule(carga_viral['média'] & tempo_exposicao['baixo'] & volume['pequeno'], risco['médio'])\n",
    "regra11 = ctrl.Rule(carga_viral['média'] & tempo_exposicao['baixo'] & volume['médio'], risco['médio'])\n",
    "regra12 = ctrl.Rule(carga_viral['média'] & tempo_exposicao['baixo'] & volume['grande'], risco['médio'])\n",
    "regra13 = ctrl.Rule(carga_viral['média'] & tempo_exposicao['médio'] & volume['pequeno'], risco['médio'])\n",
    "regra14 = ctrl.Rule(carga_viral['média'] & tempo_exposicao['médio'] & volume['médio'], risco['médio'])\n",
    "regra15 = ctrl.Rule(carga_viral['média'] & tempo_exposicao['médio'] & volume['grande'], risco['médio'])\n",
    "regra16 = ctrl.Rule(carga_viral['média'] & tempo_exposicao['alto'] & volume['pequeno'], risco['médio'])\n",
    "regra17 = ctrl.Rule(carga_viral['média'] & tempo_exposicao['alto'] & volume['médio'], risco['médio'])\n",
    "regra18 = ctrl.Rule(carga_viral['média'] & tempo_exposicao['alto'] & volume['grande'], risco['médio'])\n",
    "regra19 = ctrl.Rule(carga_viral['alta'] & tempo_exposicao['baixo'] & volume['pequeno'], risco['alto'])\n",
    "regra20 = ctrl.Rule(carga_viral['alta'] & tempo_exposicao['baixo'] & volume['médio'], risco['alto'])\n",
    "regra21 = ctrl.Rule(carga_viral['alta'] & tempo_exposicao['baixo'] & volume['grande'], risco['alto'])\n",
    "regra22 = ctrl.Rule(carga_viral['alta'] & tempo_exposicao['médio'] & volume['pequeno'], risco['alto'])\n",
    "regra23 = ctrl.Rule(carga_viral['alta'] & tempo_exposicao['médio'] & volume['médio'], risco['alto'])\n",
    "regra24 = ctrl.Rule(carga_viral['alta'] & tempo_exposicao['médio'] & volume['grande'], risco['muito_alto'])\n",
    "regra25 = ctrl.Rule(carga_viral['alta'] & tempo_exposicao['alto'] & volume['pequeno'], risco['alto'])\n",
    "regra26 = ctrl.Rule(carga_viral['alta'] & tempo_exposicao['alto'] & volume['médio'], risco['muito_alto'])\n",
    "regra27 = ctrl.Rule(carga_viral['alta'] & tempo_exposicao['alto'] & volume['grande'], risco['muito_alto'])\n",
    "\n",
    "# Criação do Sistema de Controle e Simulação\n",
    "sistema_controle = ctrl.ControlSystem(rules=[regra1, regra2, regra3, regra4, regra5, regra6, regra7, regra8, regra9, regra10, regra11, regra12, regra13, regra14, regra15, regra16, regra17, regra18, regra19, regra20, regra21, regra22, regra23, regra24, regra25, regra26, regra27])\n",
    "sistema_simulacao = ctrl.ControlSystemSimulation(sistema_controle)"
   ]
  },
  {
   "cell_type": "markdown",
   "metadata": {},
   "source": [
    "#### Geração do Banco de Dados\n",
    "\n",
    "Com o sistema fuzzy criado, geramos o banco de dados conforme especificado no enunciado, com 10 valores para cada uma das 3 variáveis de entrada, totalizando 1000 amostras."
   ]
  },
  {
   "cell_type": "code",
   "execution_count": 12,
   "metadata": {},
   "outputs": [
    {
     "name": "stdout",
     "output_type": "stream",
     "text": [
      "Formato do Banco de Dados de Entrada (X): (1000, 3)\n",
      "Formato do Banco de Dados de Saída (y): (1000,)\n"
     ]
    }
   ],
   "source": [
    "# Definindo os intervalos de entrada para o banco de dados\n",
    "valores_carga_viral = np.linspace(0, 10000, 10)\n",
    "valores_tempo = np.linspace(0, 10, 10)\n",
    "valores_volume = np.linspace(0, 10, 10)\n",
    "\n",
    "# Listas para armazenar os dados\n",
    "X = [] # Entradas\n",
    "y = [] # Saídas (alvo)\n",
    "\n",
    "# Loop para gerar os dados\n",
    "for carga in valores_carga_viral:\n",
    "    for tempo in valores_tempo:\n",
    "        for vol in valores_volume:\n",
    "            # Inserindo os valores no sistema\n",
    "            sistema_simulacao.input['Carga Viral'] = carga\n",
    "            sistema_simulacao.input['Tempo de Exposição'] = tempo\n",
    "            sistema_simulacao.input['Volume'] = vol\n",
    "            \n",
    "            # Computando a saída\n",
    "            sistema_simulacao.compute()\n",
    "            \n",
    "            # Armazenando os dados\n",
    "            saida_risco = sistema_simulacao.output['Risco de Contaminação']\n",
    "            X.append([carga, tempo, vol])\n",
    "            y.append(saida_risco)\n",
    "\n",
    "# Convertendo para arrays numpy\n",
    "X = np.array(X)\n",
    "y = np.array(y)\n",
    "\n",
    "print(\"Formato do Banco de Dados de Entrada (X):\", X.shape)\n",
    "print(\"Formato do Banco de Dados de Saída (y):\", y.shape)"
   ]
  },
  {
   "cell_type": "markdown",
   "metadata": {},
   "source": [
    "## Fase 2: Treinamento do Modelo de Regressão (MLP)"
   ]
  },
  {
   "cell_type": "code",
   "execution_count": 13,
   "metadata": {},
   "outputs": [
    {
     "name": "stdout",
     "output_type": "stream",
     "text": [
      "O Erro Quadrático Médio (MSE) do modelo foi: 0.006982\n"
     ]
    }
   ],
   "source": [
    "from sklearn.neural_network import MLPRegressor\n",
    "from sklearn.model_selection import train_test_split\n",
    "from sklearn.preprocessing import StandardScaler\n",
    "from sklearn.metrics import mean_squared_error\n",
    "\n",
    "# Divisão dos dados em treino (80%) e teste (20%)\n",
    "X_train, X_test, y_train, y_test = train_test_split(X, y, test_size=0.2, random_state=42)\n",
    "\n",
    "# Normalização dos dados de entrada (importante para redes neurais)\n",
    "scaler = StandardScaler()\n",
    "X_train_scaled = scaler.fit_transform(X_train)\n",
    "X_test_scaled = scaler.transform(X_test)\n",
    "\n",
    "# Treinamento do modelo MLP Regressor\n",
    "mlp_model = MLPRegressor(random_state=42, max_iter=2000, hidden_layer_sizes=(100, 50), activation='relu', solver='adam').fit(X_train_scaled, y_train)\n",
    "\n",
    "# Predição e Avaliação do Modelo\n",
    "predictions = mlp_model.predict(X_test_scaled)\n",
    "mse = mean_squared_error(y_test, predictions)\n",
    "\n",
    "print(f\"O Erro Quadrático Médio (MSE) do modelo foi: {mse:.6f}\")"
   ]
  },
  {
   "cell_type": "markdown",
   "metadata": {},
   "source": [
    "## Fase 3: Otimização com Algoritmo Inspirado na Natureza\n",
    "\n",
    "Nesta fase, usamos um algoritmo de otimização (neste caso, `differential_evolution`, que é um tipo de algoritmo evolutivo) para encontrar a combinação de entradas (`Carga Viral`, `Tempo de Exposição`, `Volume`) que **minimiza** a saída do nosso regressor (o `Risco de Contaminação`)."
   ]
  },
  {
   "cell_type": "code",
   "execution_count": 14,
   "metadata": {},
   "outputs": [
    {
     "name": "stdout",
     "output_type": "stream",
     "text": [
      "Otimização concluída com sucesso!\n",
      "Menor Risco de Contaminação Encontrado: 0.0055\n",
      "\n",
      "Combinação de parâmetros que resulta no menor risco:\n",
      "  - Carga Viral: 0.12\n",
      "  - Tempo de Exposição: 10.00\n",
      "  - Volume: 4.00\n"
     ]
    }
   ],
   "source": [
    "from scipy.optimize import differential_evolution\n",
    "\n",
    "# Definir a função objetivo que queremos minimizar\n",
    "# A função recebe os valores de entrada e retorna a predição do modelo treinado\n",
    "def objective_function(params):\n",
    "    # Os parâmetros de entrada precisam ser normalizados com o mesmo 'scaler' do treino\n",
    "    params_scaled = scaler.transform([params])\n",
    "    # O modelo prediz o risco com base nos parâmetros normalizados\n",
    "    return mlp_model.predict(params_scaled)[0]\n",
    "\n",
    "# Definir os limites (bounds) para cada variável de entrada\n",
    "bounds = [(0, 10000), (0, 10), (0, 10)]\n",
    "\n",
    "# Executar o algoritmo de otimização\n",
    "result = differential_evolution(objective_function, bounds)\n",
    "\n",
    "# Exibir os resultados\n",
    "if result.success:\n",
    "    min_risk_params = result.x\n",
    "    min_risk_value = result.fun\n",
    "    print(\"Otimização concluída com sucesso!\")\n",
    "    print(f\"Menor Risco de Contaminação Encontrado: {min_risk_value:.4f}\")\n",
    "    print(\"\\nCombinação de parâmetros que resulta no menor risco:\")\n",
    "    print(f\"  - Carga Viral: {min_risk_params[0]:.2f}\")\n",
    "    print(f\"  - Tempo de Exposição: {min_risk_params[1]:.2f}\")\n",
    "    print(f\"  - Volume: {min_risk_params[2]:.2f}\")\n",
    "else:\n",
    "    print(\"A otimização não encontrou uma solução.\")"
   ]
  },
  {
   "cell_type": "markdown",
   "metadata": {},
   "source": [
    "# Análise dos Resultados #\n",
    "\n",
    "O objetivo do projeto foi desenvolver um sistema inteligente completo para modelar, simular e otimizar o risco de contaminação ocupacional por HIV, integrando três fases distintas: a criação de um sistema de inferência fuzzy, o treinamento de um modelo de regressão para simular seu comportamento, e a aplicação de um algoritmo de otimização para identificar cenários de mínimo risco.\n",
    "\n",
    "Na primeira fase, foi implementado um sistema fuzzy robusto utilizando a biblioteca scikit-fuzzy, que se mostrou altamente eficaz para traduzir o conhecimento qualitativo de especialistas em um modelo computacional funcional. O sistema foi construído com três variáveis de entrada (Carga Viral, Tempo de Exposição e Volume) e uma variável de saída (Risco de Contaminação), que foi adequadamente modelada com quatro funções de pertinência para representar os diferentes níveis de risco. As 27 regras \"SE-ENTÃO\" , baseadas na documentação de referência, permitiram mapear as complexas interações entre os fatores de exposição, demonstrando a capacidade da lógica fuzzy de lidar com a imprecisão inerente a conceitos como risco \"alto\" ou \"médio\". A conclusão desta fase foi a geração de um banco de dados sintético com 1000 amostras, que serviu como uma representação fiel e consistente do comportamento do sistema de inferência.\n",
    "\n",
    "Na segunda fase, o banco de dados gerado foi utilizado para treinar um regressor de Perceptron Multicamada (MLP). O objetivo era verificar se um modelo de aprendizado de máquina poderia replicar a função de decisão não-linear do sistema fuzzy. Os resultados foram extremamente positivos, alcançando um Erro Quadrático Médio (MSE) muito baixo, da ordem de aproximadamente 0.007. Este valor ínfimo comprova que a rede neural aprendeu a imitar o sistema fuzzy com altíssima fidelidade. Esse sucesso foi crucial, pois forneceu uma função matemática contínua e eficiente, pronta para ser otimizada.\n",
    "\n",
    "Finalmente, na terceira fase, aplicou-se o algoritmo de otimização differential_evolution sobre o modelo de regressão treinado, com o objetivo de encontrar a combinação de entradas que minimizasse a função de risco. A otimização convergiu para um resultado claro e intuitivo: o risco mínimo de contaminação ocorre quando os valores das três variáveis de entrada são os menores possíveis (Carga Viral, Tempo de Exposição e Volume próximos de zero). O algoritmo não apenas confirmou a lógica esperada, mas também quantificou o ponto ótimo, provando a eficácia da abordagem híbrida para resolver problemas de otimização em domínios complexos e baseados em conhecimento especializado."
   ]
  }
 ],
 "metadata": {
  "kernelspec": {
   "display_name": "venv",
   "language": "python",
   "name": "python3"
  },
  "language_info": {
   "codemirror_mode": {
    "name": "ipython",
    "version": 3
   },
   "file_extension": ".py",
   "mimetype": "text/x-python",
   "name": "python",
   "nbconvert_exporter": "python",
   "pygments_lexer": "ipython3",
   "version": "3.13.4"
  }
 },
 "nbformat": 4,
 "nbformat_minor": 4
}
